{
 "cells": [
  {
   "cell_type": "code",
   "execution_count": null,
   "id": "1c8ec148-4b0f-45db-a925-fa98bc8c9637",
   "metadata": {
    "tags": []
   },
   "outputs": [],
   "source": [
    "import os, sys\n",
    "import pandas as pd\n",
    "from dotenv import load_dotenv\n",
    "rpath = os.path.abspath('/home/user/Documents/10/w12/Semantic Image and Text Alignment')\n",
    "\n",
    "if rpath not in sys.path:\n",
    "    sys.path.insert(0, rpath)\n",
    "load_dotenv()\n",
    "rpath"
   ]
  },
  {
   "cell_type": "code",
   "execution_count": null,
   "id": "01aa19ce-05da-4c6a-aa2e-c801a3f160ab",
   "metadata": {
    "tags": []
   },
   "outputs": [],
   "source": [
    "from openai import OpenAI\n",
    "\n",
    "client = OpenAI(api_key=os.environ[\"OPENAI_API_KEY\"])\n",
    "\n",
    "response = client.chat.completions.create(\n",
    "  model=\"gpt-4o\",\n",
    "  messages=[\n",
    "    {\n",
    "      \"role\": \"user\",\n",
    "      \"content\": [\n",
    "        {\"type\": \"text\", \"text\": \"What’s in this image?\"},\n",
    "        {\n",
    "          \"type\": \"image_url\",\n",
    "          \"image_url\": {\n",
    "            \"url\": \"https://upload.wikimedia.org/wikipedia/commons/thumb/d/dd/Gfp-wisconsin-madison-the-nature-boardwalk.jpg/2560px-Gfp-wisconsin-madison-the-nature-boardwalk.jpg\",\n",
    "          },\n",
    "        },\n",
    "      ],\n",
    "    }\n",
    "  ],\n",
    "  max_tokens=300,\n",
    ")\n",
    "\n",
    "print(response.choices[0])"
   ]
  },
  {
   "cell_type": "code",
   "execution_count": 17,
   "id": "b60902be-588e-46e3-a689-9a188d9ea5ff",
   "metadata": {
    "tags": []
   },
   "outputs": [
    {
     "ename": "SyntaxError",
     "evalue": "invalid syntax (2474222824.py, line 6)",
     "output_type": "error",
     "traceback": [
      "\u001b[0;36m  Cell \u001b[0;32mIn[17], line 6\u001b[0;36m\u001b[0m\n\u001b[0;31m    system_message:  \"\"\"\u001b[0m\n\u001b[0m                  ^\u001b[0m\n\u001b[0;31mSyntaxError\u001b[0m\u001b[0;31m:\u001b[0m invalid syntax\n"
     ]
    }
   ],
   "source": [
    "import os\n",
    "from autogen import AssistantAgent, UserProxyAgent,agentchat\n",
    "\n",
    "llm_config = {\"model\": \"gpt-4\", \"api_key\": os.environ[\"OPENAI_API_KEY\"]}\n",
    "assistant = AssistantAgent(\"critic\",\n",
    "                           system_message= \"\"\" \n",
    "                           Imagine you are tasked with analyzing a single frame from an advertisement storyboard. The frame is represented in a DataFrame with the following details:\n",
    "\n",
    "                            Content: Description of the scene or visual elements depicted in the frame.\n",
    "                            Duration(seconds): Duration of this frame in seconds (if applicable).\n",
    "                            ImageURL: URL or reference to an image associated with this frame.\n",
    "                            Tasks:\n",
    "\n",
    "                            Visual Composition:\n",
    "\n",
    "                            Describe the visual elements and composition of the frame.\n",
    "                            Evaluate the use of colors, layout, and design principles to attract attention and convey the intended message.\n",
    "                            Message Clarity and Impact:\n",
    "\n",
    "                            Assess how effectively the frame communicates the key message or theme of the advertisement.\n",
    "                            Comment on the clarity and immediacy of the message conveyed through visuals.\n",
    "                            Engagement Potential:\n",
    "\n",
    "                            Analyze the frame’s potential to engage and captivate the target audience.\n",
    "                            Evaluate its ability to evoke emotions or curiosity effectively.\n",
    "                            Recommendations for Enhancement:\n",
    "\n",
    "                            Identify strengths and weaknesses in the visual presentation of the frame.\n",
    "                            Provide specific recommendations for enhancing visual appeal, message clarity, or overall impact.\n",
    "                            Optional: Image Analysis Integration (if applicable):\n",
    "\n",
    "                            If an image URL is provided, consider additional insights such as color scheme analysis or visual hierarchy evaluation.\n",
    "                            Please provide a detailed analysis addressing the above points. Your feedback should focus on optimizing this frame to maximize\n",
    "                            its effectiveness within the broader context of the advertisement.\n",
    "                           \"\"\"\n",
    "                           llm_config=llm_config)\n",
    "\n",
    "\n",
    "user_proxy = UserProxyAgent(\"user_proxy\",\n",
    "                            human_input_mode=\"NEVER\",\n",
    "                            max_consecutive_auto_reply=10,\n",
    "                           )"
   ]
  },
  {
   "cell_type": "code",
   "execution_count": null,
   "id": "ca19d62b-cd3d-4bdd-b744-f9d6c1edcd6d",
   "metadata": {},
   "outputs": [],
   "source": [
    "user_proxy.initiate_chat(\n",
    "   assistant,\n",
    "   llm_config=llm_config\n",
    ")"
   ]
  }
 ],
 "metadata": {
  "kernelspec": {
   "display_name": "Python 3 (ipykernel)",
   "language": "python",
   "name": "python3"
  },
  "language_info": {
   "codemirror_mode": {
    "name": "ipython",
    "version": 3
   },
   "file_extension": ".py",
   "mimetype": "text/x-python",
   "name": "python",
   "nbconvert_exporter": "python",
   "pygments_lexer": "ipython3",
   "version": "3.11.7"
  }
 },
 "nbformat": 4,
 "nbformat_minor": 5
}
